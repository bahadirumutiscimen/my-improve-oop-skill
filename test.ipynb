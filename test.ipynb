{
 "cells": [
  {
   "cell_type": "code",
   "execution_count": 6,
   "metadata": {},
   "outputs": [],
   "source": [
    "class MySubClass(object):\n",
    "    pass"
   ]
  },
  {
   "cell_type": "code",
   "execution_count": 9,
   "metadata": {},
   "outputs": [],
   "source": [
    "from typing import List\n",
    "from pprint import pprint\n",
    "class Contact:\n",
    "   all_contacts: List[\"Contact\"] = []\n",
    "   def __init__(self, name: str, email: str) -> None:\n",
    "       self.name = name\n",
    "       self.email = email\n",
    "       Contact.all_contacts.append(self)\n",
    "   def __repr__(self) -> str:\n",
    "       return (\n",
    "           f\"{self.__class__.__name__}(\"\n",
    "           f\"{self.name!r}, {self.email!r}\"\n",
    "           f\")\"\n",
    "      )\n",
    "  \n",
    "class Supplier(Contact):\n",
    "    def order(self, order: \"Order\") -> None:\n",
    "      print(\n",
    "          \"If this were a real system we would send\"\n",
    "          f\"'{order}' order to '{self.name}'\"\n",
    "      )"
   ]
  },
  {
   "cell_type": "code",
   "execution_count": 12,
   "metadata": {},
   "outputs": [
    {
     "name": "stdout",
     "output_type": "stream",
     "text": [
      "Some Body somebody@example.net Sup Plier supplier@example.net\n"
     ]
    }
   ],
   "source": [
    "c = Contact(\"Some Body\", \"somebody@example.net\")\n",
    "s = Supplier(\"Sup Plier\", \"supplier@example.net\")\n",
    "print(c.name, c.email, s.name, s.email)"
   ]
  },
  {
   "cell_type": "code",
   "execution_count": 14,
   "metadata": {},
   "outputs": [
    {
     "name": "stdout",
     "output_type": "stream",
     "text": [
      "Pretty printing has been turned ON\n"
     ]
    }
   ],
   "source": [
    "pprint(c.all_contacts)"
   ]
  },
  {
   "cell_type": "code",
   "execution_count": 16,
   "metadata": {},
   "outputs": [
    {
     "ename": "AttributeError",
     "evalue": "'Contact' object has no attribute 'order'",
     "output_type": "error",
     "traceback": [
      "\u001b[0;31m---------------------------------------------------------------------------\u001b[0m",
      "\u001b[0;31mAttributeError\u001b[0m                            Traceback (most recent call last)",
      "\u001b[0;32m/tmp/ipykernel_7414/3194578997.py\u001b[0m in \u001b[0;36m<module>\u001b[0;34m\u001b[0m\n\u001b[0;32m----> 1\u001b[0;31m \u001b[0mc\u001b[0m\u001b[0;34m.\u001b[0m\u001b[0morder\u001b[0m\u001b[0;34m(\u001b[0m\u001b[0;34m\"I need pliers\"\u001b[0m\u001b[0;34m)\u001b[0m\u001b[0;34m\u001b[0m\u001b[0;34m\u001b[0m\u001b[0m\n\u001b[0m\u001b[1;32m      2\u001b[0m \u001b[0ms\u001b[0m\u001b[0;34m.\u001b[0m\u001b[0morder\u001b[0m\u001b[0;34m(\u001b[0m\u001b[0;34m\"I need pliers\"\u001b[0m\u001b[0;34m)\u001b[0m\u001b[0;34m\u001b[0m\u001b[0;34m\u001b[0m\u001b[0m\n",
      "\u001b[0;31mAttributeError\u001b[0m: 'Contact' object has no attribute 'order'"
     ]
    }
   ],
   "source": [
    "c.order(\"I need pliers\")"
   ]
  },
  {
   "cell_type": "code",
   "execution_count": 17,
   "metadata": {},
   "outputs": [
    {
     "name": "stdout",
     "output_type": "stream",
     "text": [
      "If this were a real system we would send'I need pliers' order to 'Sup Plier'\n"
     ]
    }
   ],
   "source": [
    "s.order(\"I need pliers\")"
   ]
  },
  {
   "cell_type": "code",
   "execution_count": 18,
   "metadata": {},
   "outputs": [],
   "source": [
    "from __future__ import annotations\n",
    "\n",
    "class ContactList(list[\"Contact\"]):\n",
    "    def search(self, name: str) -> list[\"Contact\"]:\n",
    "        matching_contacts: list[\"Contact\"] = []\n",
    "        for contact in self:\n",
    "            if name in contact.name:\n",
    "                matching_contacts.append(contact)\n",
    "        return matching_contacts\n",
    "class Contact:\n",
    "    all_contacts = ContactList()\n",
    "    def __init__(self, name: str, email: str) -> None:\n",
    "        self.name = name\n",
    "        self.email = email\n",
    "        Contact.all_contacts.append(self)\n",
    "    def __repr__(self) -> str:\n",
    "        return(\n",
    "            f\"{self.__class__.__name__}(\"\n",
    "            f\"{self.name!r}, {self.email!r}\" f\")\"\n",
    "        )"
   ]
  },
  {
   "cell_type": "code",
   "execution_count": 19,
   "metadata": {},
   "outputs": [
    {
     "data": {
      "text/plain": [
       "['John A', 'John B']"
      ]
     },
     "execution_count": 19,
     "metadata": {},
     "output_type": "execute_result"
    }
   ],
   "source": [
    "c1 = Contact(\"John A\", \"john@example.net\")\n",
    "c2 = Contact(\"John B\", \"johnb@sloop.net\")\n",
    "c3 = Contact(\"Jenna C\", \"cutty@sark.io\")\n",
    "[c.name for c in Contact.all_contacts.search(\"John\")]"
   ]
  },
  {
   "cell_type": "code",
   "execution_count": 20,
   "metadata": {},
   "outputs": [],
   "source": [
    "from typing import Optional, List\n",
    "class LongNameDict(dict[str, int]):\n",
    "    def longest_key(self) -> Optional[str]:\n",
    "        \"\"\"In effect, max(self, key=len), but less obscure\"\"\"\n",
    "        longest = None\n",
    "        for key in self:\n",
    "            if longest is None or len(key) > len(longest):\n",
    "                longest = key\n",
    "        return longest"
   ]
  },
  {
   "cell_type": "code",
   "execution_count": 21,
   "metadata": {},
   "outputs": [
    {
     "data": {
      "text/plain": [
       "'c_c_philips'"
      ]
     },
     "execution_count": 21,
     "metadata": {},
     "output_type": "execute_result"
    }
   ],
   "source": [
    "articles_read = LongNameDict()\n",
    "articles_read[\"Lucy\"] = 42\n",
    "articles_read[\"c_c_philips\"] = 6\n",
    "articles_read[\"steve\"] = 7\n",
    "articles_read.longest_key()\n",
    "max(articles_read, key=len)\n"
   ]
  },
  {
   "cell_type": "code",
   "execution_count": 23,
   "metadata": {},
   "outputs": [],
   "source": [
    "from __future__ import annotations\n",
    "\n",
    "class ContactList(list[\"Contact\"]):\n",
    "    def search(self, name: str) -> list[\"Contact\"]:\n",
    "        matching_contacts: list[\"Contact\"] = []\n",
    "        for contact in self:\n",
    "            if name in contact.name:\n",
    "                matching_contacts.append(contact)\n",
    "        return matching_contacts\n",
    "class Contact:\n",
    "    all_contacts = ContactList()\n",
    "    def __init__(self, name: str, email: str) -> None:\n",
    "        self.name = name\n",
    "        self.email = email\n",
    "        Contact.all_contacts.append(self)\n",
    "    def __repr__(self) -> str:\n",
    "        return(\n",
    "            f\"{self.__class__.__name__}(\"\n",
    "            f\"{self.name!r}, {self.email!r}\" f\")\"\n",
    "        )\n",
    "class Friend(Contact):\n",
    "    def __init__(self, name: str, email: str, phone: str) -> None:\n",
    "        super().__init__(name, email)\n",
    "        self.phone = phone\n"
   ]
  },
  {
   "cell_type": "code",
   "execution_count": 24,
   "metadata": {},
   "outputs": [
    {
     "data": {
      "text/plain": [
       "[Friend('Dusty', 'Dusty@private.com')]"
      ]
     },
     "execution_count": 24,
     "metadata": {},
     "output_type": "execute_result"
    }
   ],
   "source": [
    "f = Friend(\"Dusty\", \"Dusty@private.com\", \"555-1212\")\n",
    "Contact.all_contacts"
   ]
  },
  {
   "cell_type": "code",
   "execution_count": null,
   "metadata": {},
   "outputs": [],
   "source": [
    "from __future__ import annotations\n",
    "\n",
    "class ContactList(list[\"Contact\"]):\n",
    "    def search(self, name: str) -> list[\"Contact\"]:\n",
    "        matching_contacts: list[\"Contact\"] = []\n",
    "        for contact in self:\n",
    "            if name in contact.name:\n",
    "                matching_contacts.append(contact)\n",
    "        return matching_contacts\n",
    "class Contact:\n",
    "    all_contacts = ContactList()\n",
    "    def __init__(self, name: str, email: str) -> None:\n",
    "        self.name = name\n",
    "        self.email = email\n",
    "        Contact.all_contacts.append(self)\n",
    "    def __repr__(self) -> str:\n",
    "        return(\n",
    "            f\"{self.__class__.__name__}(\"\n",
    "            f\"{self.name!r}, {self.email!r}\" f\")\"\n",
    "        )\n",
    "class Friend(Contact):\n",
    "    def __init__(self, name: str, email: str, phone: str) -> None:\n",
    "        super().__init__(name, email)\n",
    "        self.phone = phone\n",
    "\n",
    "class Emailable(Protocol):\n",
    "    email: str\n",
    "class MailSender(Emailable):\n",
    "    def send_mail(self, message: str) -> None:\n",
    "        print(f\"Sending mail to {self.email=}\")\n",
    "        # Add e-mail logic here"
   ]
  }
 ],
 "metadata": {
  "kernelspec": {
   "display_name": "Python 3.10.9 ('base')",
   "language": "python",
   "name": "python3"
  },
  "language_info": {
   "codemirror_mode": {
    "name": "ipython",
    "version": 3
   },
   "file_extension": ".py",
   "mimetype": "text/x-python",
   "name": "python",
   "nbconvert_exporter": "python",
   "pygments_lexer": "ipython3",
   "version": "3.10.9"
  },
  "orig_nbformat": 4,
  "vscode": {
   "interpreter": {
    "hash": "d9563d1ac5cce8fe6cdfad2dfb59cb9666d2aff3177c9b07cabeb51dbceec895"
   }
  }
 },
 "nbformat": 4,
 "nbformat_minor": 2
}
