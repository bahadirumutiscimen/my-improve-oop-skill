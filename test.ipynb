{
 "cells": [
  {
   "cell_type": "code",
   "execution_count": 6,
   "metadata": {},
   "outputs": [],
   "source": [
    "class MySubClass(object):\n",
    "    pass"
   ]
  },
  {
   "cell_type": "code",
   "execution_count": 9,
   "metadata": {},
   "outputs": [],
   "source": [
    "from typing import List\n",
    "from pprint import pprint\n",
    "class Contact:\n",
    "   all_contacts: List[\"Contact\"] = []\n",
    "   def __init__(self, name: str, email: str) -> None:\n",
    "       self.name = name\n",
    "       self.email = email\n",
    "       Contact.all_contacts.append(self)\n",
    "   def __repr__(self) -> str:\n",
    "       return (\n",
    "           f\"{self.__class__.__name__}(\"\n",
    "           f\"{self.name!r}, {self.email!r}\"\n",
    "           f\")\"\n",
    "      )\n",
    "  \n",
    "class Supplier(Contact):\n",
    "    def order(self, order: \"Order\") -> None:\n",
    "      print(\n",
    "          \"If this were a real system we would send\"\n",
    "          f\"'{order}' order to '{self.name}'\"\n",
    "      )"
   ]
  },
  {
   "cell_type": "code",
   "execution_count": 12,
   "metadata": {},
   "outputs": [
    {
     "name": "stdout",
     "output_type": "stream",
     "text": [
      "Some Body somebody@example.net Sup Plier supplier@example.net\n"
     ]
    }
   ],
   "source": [
    "c = Contact(\"Some Body\", \"somebody@example.net\")\n",
    "s = Supplier(\"Sup Plier\", \"supplier@example.net\")\n",
    "print(c.name, c.email, s.name, s.email)"
   ]
  },
  {
   "cell_type": "code",
   "execution_count": 14,
   "metadata": {},
   "outputs": [
    {
     "name": "stdout",
     "output_type": "stream",
     "text": [
      "Pretty printing has been turned ON\n"
     ]
    }
   ],
   "source": [
    "pprint(c.all_contacts)"
   ]
  },
  {
   "cell_type": "code",
   "execution_count": 16,
   "metadata": {},
   "outputs": [
    {
     "ename": "AttributeError",
     "evalue": "'Contact' object has no attribute 'order'",
     "output_type": "error",
     "traceback": [
      "\u001b[0;31m---------------------------------------------------------------------------\u001b[0m",
      "\u001b[0;31mAttributeError\u001b[0m                            Traceback (most recent call last)",
      "\u001b[0;32m/tmp/ipykernel_7414/3194578997.py\u001b[0m in \u001b[0;36m<module>\u001b[0;34m\u001b[0m\n\u001b[0;32m----> 1\u001b[0;31m \u001b[0mc\u001b[0m\u001b[0;34m.\u001b[0m\u001b[0morder\u001b[0m\u001b[0;34m(\u001b[0m\u001b[0;34m\"I need pliers\"\u001b[0m\u001b[0;34m)\u001b[0m\u001b[0;34m\u001b[0m\u001b[0;34m\u001b[0m\u001b[0m\n\u001b[0m\u001b[1;32m      2\u001b[0m \u001b[0ms\u001b[0m\u001b[0;34m.\u001b[0m\u001b[0morder\u001b[0m\u001b[0;34m(\u001b[0m\u001b[0;34m\"I need pliers\"\u001b[0m\u001b[0;34m)\u001b[0m\u001b[0;34m\u001b[0m\u001b[0;34m\u001b[0m\u001b[0m\n",
      "\u001b[0;31mAttributeError\u001b[0m: 'Contact' object has no attribute 'order'"
     ]
    }
   ],
   "source": [
    "c.order(\"I need pliers\")"
   ]
  },
  {
   "cell_type": "code",
   "execution_count": 17,
   "metadata": {},
   "outputs": [
    {
     "name": "stdout",
     "output_type": "stream",
     "text": [
      "If this were a real system we would send'I need pliers' order to 'Sup Plier'\n"
     ]
    }
   ],
   "source": [
    "s.order(\"I need pliers\")"
   ]
  },
  {
   "cell_type": "code",
   "execution_count": 18,
   "metadata": {},
   "outputs": [],
   "source": [
    "from __future__ import annotations\n",
    "\n",
    "class ContactList(list[\"Contact\"]):\n",
    "    def search(self, name: str) -> list[\"Contact\"]:\n",
    "        matching_contacts: list[\"Contact\"] = []\n",
    "        for contact in self:\n",
    "            if name in contact.name:\n",
    "                matching_contacts.append(contact)\n",
    "        return matching_contacts\n",
    "class Contact:\n",
    "    all_contacts = ContactList()\n",
    "    def __init__(self, name: str, email: str) -> None:\n",
    "        self.name = name\n",
    "        self.email = email\n",
    "        Contact.all_contacts.append(self)\n",
    "    def __repr__(self) -> str:\n",
    "        return(\n",
    "            f\"{self.__class__.__name__}(\"\n",
    "            f\"{self.name!r}, {self.email!r}\" f\")\"\n",
    "        )"
   ]
  },
  {
   "cell_type": "code",
   "execution_count": 19,
   "metadata": {},
   "outputs": [
    {
     "data": {
      "text/plain": [
       "['John A', 'John B']"
      ]
     },
     "execution_count": 19,
     "metadata": {},
     "output_type": "execute_result"
    }
   ],
   "source": [
    "c1 = Contact(\"John A\", \"john@example.net\")\n",
    "c2 = Contact(\"John B\", \"johnb@sloop.net\")\n",
    "c3 = Contact(\"Jenna C\", \"cutty@sark.io\")\n",
    "[c.name for c in Contact.all_contacts.search(\"John\")]"
   ]
  },
  {
   "cell_type": "code",
   "execution_count": 20,
   "metadata": {},
   "outputs": [],
   "source": [
    "from typing import Optional, List\n",
    "class LongNameDict(dict[str, int]):\n",
    "    def longest_key(self) -> Optional[str]:\n",
    "        \"\"\"In effect, max(self, key=len), but less obscure\"\"\"\n",
    "        longest = None\n",
    "        for key in self:\n",
    "            if longest is None or len(key) > len(longest):\n",
    "                longest = key\n",
    "        return longest"
   ]
  },
  {
   "cell_type": "code",
   "execution_count": 21,
   "metadata": {},
   "outputs": [
    {
     "data": {
      "text/plain": [
       "'c_c_philips'"
      ]
     },
     "execution_count": 21,
     "metadata": {},
     "output_type": "execute_result"
    }
   ],
   "source": [
    "articles_read = LongNameDict()\n",
    "articles_read[\"Lucy\"] = 42\n",
    "articles_read[\"c_c_philips\"] = 6\n",
    "articles_read[\"steve\"] = 7\n",
    "articles_read.longest_key()\n",
    "max(articles_read, key=len)\n"
   ]
  },
  {
   "cell_type": "code",
   "execution_count": 23,
   "metadata": {},
   "outputs": [],
   "source": [
    "from __future__ import annotations\n",
    "\n",
    "class ContactList(list[\"Contact\"]):\n",
    "    def search(self, name: str) -> list[\"Contact\"]:\n",
    "        matching_contacts: list[\"Contact\"] = []\n",
    "        for contact in self:\n",
    "            if name in contact.name:\n",
    "                matching_contacts.append(contact)\n",
    "        return matching_contacts\n",
    "class Contact:\n",
    "    all_contacts = ContactList()\n",
    "    def __init__(self, name: str, email: str) -> None:\n",
    "        self.name = name\n",
    "        self.email = email\n",
    "        Contact.all_contacts.append(self)\n",
    "    def __repr__(self) -> str:\n",
    "        return(\n",
    "            f\"{self.__class__.__name__}(\"\n",
    "            f\"{self.name!r}, {self.email!r}\" f\")\"\n",
    "        )\n",
    "class Friend(Contact):\n",
    "    def __init__(self, name: str, email: str, phone: str) -> None:\n",
    "        super().__init__(name, email)\n",
    "        self.phone = phone\n"
   ]
  },
  {
   "cell_type": "code",
   "execution_count": 24,
   "metadata": {},
   "outputs": [
    {
     "data": {
      "text/plain": [
       "[Friend('Dusty', 'Dusty@private.com')]"
      ]
     },
     "execution_count": 24,
     "metadata": {},
     "output_type": "execute_result"
    }
   ],
   "source": [
    "f = Friend(\"Dusty\", \"Dusty@private.com\", \"555-1212\")\n",
    "Contact.all_contacts"
   ]
  },
  {
   "cell_type": "code",
   "execution_count": 2,
   "metadata": {},
   "outputs": [
    {
     "ename": "NameError",
     "evalue": "name 'Emailable' is not defined",
     "output_type": "error",
     "traceback": [
      "\u001b[0;31m---------------------------------------------------------------------------\u001b[0m",
      "\u001b[0;31mNameError\u001b[0m                                 Traceback (most recent call last)",
      "\u001b[0;32m/tmp/ipykernel_2762/3544440003.py\u001b[0m in \u001b[0;36m<module>\u001b[0;34m\u001b[0m\n\u001b[1;32m     24\u001b[0m         \u001b[0mself\u001b[0m\u001b[0;34m.\u001b[0m\u001b[0mphone\u001b[0m \u001b[0;34m=\u001b[0m \u001b[0mphone\u001b[0m\u001b[0;34m\u001b[0m\u001b[0;34m\u001b[0m\u001b[0m\n\u001b[1;32m     25\u001b[0m \u001b[0;34m\u001b[0m\u001b[0m\n\u001b[0;32m---> 26\u001b[0;31m \u001b[0;32mclass\u001b[0m \u001b[0mMailSender\u001b[0m\u001b[0;34m(\u001b[0m\u001b[0mEmailable\u001b[0m\u001b[0;34m)\u001b[0m\u001b[0;34m:\u001b[0m\u001b[0;34m\u001b[0m\u001b[0;34m\u001b[0m\u001b[0m\n\u001b[0m\u001b[1;32m     27\u001b[0m     \u001b[0;32mdef\u001b[0m \u001b[0msend_mail\u001b[0m\u001b[0;34m(\u001b[0m\u001b[0mself\u001b[0m\u001b[0;34m,\u001b[0m \u001b[0mmessage\u001b[0m\u001b[0;34m:\u001b[0m \u001b[0mstr\u001b[0m\u001b[0;34m)\u001b[0m \u001b[0;34m->\u001b[0m \u001b[0;32mNone\u001b[0m\u001b[0;34m:\u001b[0m\u001b[0;34m\u001b[0m\u001b[0;34m\u001b[0m\u001b[0m\n\u001b[1;32m     28\u001b[0m         \u001b[0mprint\u001b[0m\u001b[0;34m(\u001b[0m\u001b[0;34mf\"Sending mail to {self.email=}\"\u001b[0m\u001b[0;34m)\u001b[0m\u001b[0;34m\u001b[0m\u001b[0;34m\u001b[0m\u001b[0m\n",
      "\u001b[0;31mNameError\u001b[0m: name 'Emailable' is not defined"
     ]
    }
   ],
   "source": [
    "from __future__ import annotations\n",
    "\n",
    "class ContactList(list[\"Contact\"]):\n",
    "    def search(self, name: str) -> list[\"Contact\"]:\n",
    "        matching_contacts: list[\"Contact\"] = []\n",
    "        for contact in self:\n",
    "            if name in contact.name:\n",
    "                matching_contacts.append(contact)\n",
    "        return matching_contacts\n",
    "class Contact:\n",
    "    all_contacts = ContactList()\n",
    "    def __init__(self, name: str, email: str) -> None:\n",
    "        self.name = name\n",
    "        self.email = email\n",
    "        Contact.all_contacts.append(self)\n",
    "    def __repr__(self) -> str:\n",
    "        return(\n",
    "            f\"{self.__class__.__name__}(\"\n",
    "            f\"{self.name!r}, {self.email!r}\" f\")\"\n",
    "        )\n",
    "class Friend(Contact):\n",
    "    def __init__(self, name: str, email: str, phone: str) -> None:\n",
    "        super().__init__(name, email)\n",
    "        self.phone = phone\n",
    " \n",
    "class Emailable(Contact):\n",
    "    email: str\n",
    "            \n",
    "class MailSender(Emailable):\n",
    "    def send_mail(self, message: str) -> None:\n",
    "        print(f\"Sending mail to {self.email=}\")\n",
    "        # Add e-mail logic here\n",
    "        "
   ]
  },
  {
   "cell_type": "code",
   "execution_count": 3,
   "metadata": {},
   "outputs": [],
   "source": [
    "class BaseClass:\n",
    "    num_base_calls = 0\n",
    "    def call_me(self) -> None:\n",
    "        print(\"Calling method on BaseClass\")\n",
    "        self.num_base_calls += 1\n",
    "class LeftSubclass(BaseClass):\n",
    "    num_left_calls = 0\n",
    "    def call_me(self) -> None:\n",
    "        BaseClass.call_me(self)\n",
    "        print(\"Calling method on LeftSubclass\")\n",
    "        self.num_left_calls +=1\n",
    "class RightSubClass(BaseClass):\n",
    "    num_right_class = 0\n",
    "    def call_me(self) -> None:\n",
    "        BaseClass.call_me(self)\n",
    "        print(\"Calling method on RightSubclass\")\n",
    "        self.num_right_class += 1\n",
    "class Subclass(LeftSubclass, RightSubClass):\n",
    "    num_sub_class = 0\n",
    "    def call_me(self) -> None:\n",
    "        LeftSubclass.call_me(self)\n",
    "        RightSubClass.call_me(self)\n",
    "        print(\"Calling method on Subclass\")\n",
    "        self.num_sub_class += 1"
   ]
  },
  {
   "cell_type": "code",
   "execution_count": 4,
   "metadata": {},
   "outputs": [
    {
     "name": "stdout",
     "output_type": "stream",
     "text": [
      "Calling method on BaseClass\n",
      "Calling method on LeftSubclass\n",
      "Calling method on BaseClass\n",
      "Calling method on RightSubclass\n",
      "Calling method on Subclass\n"
     ]
    }
   ],
   "source": [
    "s = Subclass()\n",
    "s.call_me()"
   ]
  },
  {
   "cell_type": "code",
   "execution_count": 7,
   "metadata": {},
   "outputs": [],
   "source": [
    "class BaseClass:\n",
    "  num_base_calls = 0\n",
    "  def call_me(self):\n",
    "      print(\"Calling method on Base Class\")\n",
    "      self.num_base_calls += 1\n",
    "class LeftSubclass_S(BaseClass):\n",
    "  num_left_calls = 0\n",
    "  def call_me(self) -> None:\n",
    "      super().call_me()\n",
    "      print(\"Calling method on LeftSubclass_S\")\n",
    "      self.num_left_calls += 1\n",
    "class RightSubClass_S(BaseClass):\n",
    "  num_right_class = 0\n",
    "  def call_me(self) -> None:\n",
    "      super().call_me()\n",
    "      print(\"Calling_method on RightSubclass_S\")\n",
    "      self.num_right_class += 1\n",
    "class Subclass_S(LeftSubclass_S, RightSubClass_S):\n",
    "  num_sub_calls = 0\n",
    "  def call_me(self) -> None:\n",
    "      super().call_me()\n",
    "      print(\"Calling method on Subclass_S\")\n",
    "      self.num_sub_calls += 1"
   ]
  },
  {
   "cell_type": "code",
   "execution_count": 6,
   "metadata": {},
   "outputs": [
    {
     "name": "stdout",
     "output_type": "stream",
     "text": [
      "Calling method on Base Class\n",
      "Calling_method on RightSubclass_S\n",
      "Calling method on LeftSubclass_S\n",
      "Calling method on Subclass_S\n"
     ]
    },
    {
     "ename": "AttributeError",
     "evalue": "'Subclass_S' object has no attribute 'num_right_calls'",
     "output_type": "error",
     "traceback": [
      "\u001b[0;31m---------------------------------------------------------------------------\u001b[0m",
      "\u001b[0;31mAttributeError\u001b[0m                            Traceback (most recent call last)",
      "\u001b[0;32m/tmp/ipykernel_1478/2275821425.py\u001b[0m in \u001b[0;36m<module>\u001b[0;34m\u001b[0m\n\u001b[1;32m      4\u001b[0m \u001b[0mss\u001b[0m\u001b[0;34m.\u001b[0m\u001b[0mnum_sub_calls\u001b[0m\u001b[0;34m,\u001b[0m\u001b[0;34m\u001b[0m\u001b[0;34m\u001b[0m\u001b[0m\n\u001b[1;32m      5\u001b[0m \u001b[0mss\u001b[0m\u001b[0;34m.\u001b[0m\u001b[0mnum_left_calls\u001b[0m\u001b[0;34m,\u001b[0m\u001b[0;34m\u001b[0m\u001b[0;34m\u001b[0m\u001b[0m\n\u001b[0;32m----> 6\u001b[0;31m \u001b[0mss\u001b[0m\u001b[0;34m.\u001b[0m\u001b[0mnum_right_calls\u001b[0m\u001b[0;34m,\u001b[0m\u001b[0;34m\u001b[0m\u001b[0;34m\u001b[0m\u001b[0m\n\u001b[0m\u001b[1;32m      7\u001b[0m ss.num_base_calls)\n",
      "\u001b[0;31mAttributeError\u001b[0m: 'Subclass_S' object has no attribute 'num_right_calls'"
     ]
    }
   ],
   "source": [
    "ss = Subclass_S()\n",
    "ss.call_me()\n",
    "print(\n",
    "ss.num_sub_calls,\n",
    "ss.num_left_calls,\n",
    "ss.num_right_calls,\n",
    "ss.num_base_calls)"
   ]
  },
  {
   "cell_type": "code",
   "execution_count": null,
   "metadata": {},
   "outputs": [],
   "source": [
    "from typing import Any\n",
    "\n",
    "class Contract:\n",
    "    all_contacts = ContactList()\n",
    "    def __init__(self, /, name: str = \"\", email: str = \"\", **kwargs: Any) -> None:\n",
    "        super().__init__(**kwargs) # type: ignore\n",
    "        self.name = name\n",
    "        self.email = email\n",
    "        self.all_contacts.append(self)\n",
    "    def __repr__(self) -> str:\n",
    "        return f\"{self.__class__.__name__}(\" f\"{self.name!r}, {self.email!r}\"f\")\"\n",
    "class AddressHolder:\n",
    "    def __init__(\n",
    "        self,\n",
    "        /,\n",
    "        street: str = \"\",\n",
    "        city: str = \"\",\n",
    "        state: str = \"\",\n",
    "        code: str = \"\",\n",
    "        **kwargs: Any,\n",
    "    ) -> None:\n",
    "      super().__init__(**kwargs) # type: ignore\n",
    "      self.street = street\n",
    "      self.city = city\n",
    "      self.state = state\n",
    "      self.code = code\n",
    "class Friend(Contact, AddressHolder):\n",
    "    def __init__(self, /, phone: str = \"\", **kwargs: Any) -> None:\n",
    "        super().__init__(**kwargs)\n",
    "        self.phone = phone"
   ]
  },
  {
   "cell_type": "code",
   "execution_count": 8,
   "metadata": {},
   "outputs": [],
   "source": [
    "from pathlib import Path\n",
    "\n",
    "class AudioFile:\n",
    "    ext: str\n",
    "    def __init__(self, filepath: Path) -> None:\n",
    "        if not filepath.suffix == self.ext:\n",
    "            raise ValueError(\"Invalid file format\")\n",
    "        self.filepath = filepath\n",
    "class MP3File(AudioFile):\n",
    "    ext = \".mp3\"\n",
    "    def play(self) -> None:\n",
    "        print(f\"playing {self.filepath} as mp3\")\n",
    "class WavFile(AudioFile):\n",
    "    ext = \".wav\"\n",
    "    def play(self) -> None:\n",
    "        print(f\"playing {self.filepath} as wav\")\n",
    "class OggFile(AudioFile):\n",
    "    ext = \".ogg\"\n",
    "    def play(self) -> None:\n",
    "        print(f\"playing {self.filepath} as ogg\")"
   ]
  },
  {
   "cell_type": "code",
   "execution_count": 11,
   "metadata": {},
   "outputs": [
    {
     "name": "stdout",
     "output_type": "stream",
     "text": [
      "playing Heart of the Sunrise.mp3 as mp3\n",
      "playing Roundabout.wav as wav\n",
      "playing Heart of the Sunrise.ogg as ogg\n"
     ]
    },
    {
     "ename": "ValueError",
     "evalue": "Invalid file format",
     "output_type": "error",
     "traceback": [
      "\u001b[0;31m---------------------------------------------------------------------------\u001b[0m",
      "\u001b[0;31mValueError\u001b[0m                                Traceback (most recent call last)",
      "\u001b[0;32m/tmp/ipykernel_1478/3374646494.py\u001b[0m in \u001b[0;36m<module>\u001b[0;34m\u001b[0m\n\u001b[1;32m      5\u001b[0m \u001b[0mp_3\u001b[0m \u001b[0;34m=\u001b[0m \u001b[0mOggFile\u001b[0m\u001b[0;34m(\u001b[0m\u001b[0mPath\u001b[0m\u001b[0;34m(\u001b[0m\u001b[0;34m\"Heart of the Sunrise.ogg\"\u001b[0m\u001b[0;34m)\u001b[0m\u001b[0;34m)\u001b[0m\u001b[0;34m\u001b[0m\u001b[0;34m\u001b[0m\u001b[0m\n\u001b[1;32m      6\u001b[0m \u001b[0mp_3\u001b[0m\u001b[0;34m.\u001b[0m\u001b[0mplay\u001b[0m\u001b[0;34m(\u001b[0m\u001b[0;34m)\u001b[0m\u001b[0;34m\u001b[0m\u001b[0;34m\u001b[0m\u001b[0m\n\u001b[0;32m----> 7\u001b[0;31m \u001b[0mp_4\u001b[0m \u001b[0;34m=\u001b[0m \u001b[0mMP3File\u001b[0m\u001b[0;34m(\u001b[0m\u001b[0mPath\u001b[0m\u001b[0;34m(\u001b[0m\u001b[0;34m\"The Fish.mov\"\u001b[0m\u001b[0;34m)\u001b[0m\u001b[0;34m)\u001b[0m\u001b[0;34m\u001b[0m\u001b[0;34m\u001b[0m\u001b[0m\n\u001b[0m",
      "\u001b[0;32m/tmp/ipykernel_1478/422368654.py\u001b[0m in \u001b[0;36m__init__\u001b[0;34m(self, filepath)\u001b[0m\n\u001b[1;32m      5\u001b[0m     \u001b[0;32mdef\u001b[0m \u001b[0m__init__\u001b[0m\u001b[0;34m(\u001b[0m\u001b[0mself\u001b[0m\u001b[0;34m,\u001b[0m \u001b[0mfilepath\u001b[0m\u001b[0;34m:\u001b[0m \u001b[0mPath\u001b[0m\u001b[0;34m)\u001b[0m \u001b[0;34m->\u001b[0m \u001b[0;32mNone\u001b[0m\u001b[0;34m:\u001b[0m\u001b[0;34m\u001b[0m\u001b[0;34m\u001b[0m\u001b[0m\n\u001b[1;32m      6\u001b[0m         \u001b[0;32mif\u001b[0m \u001b[0;32mnot\u001b[0m \u001b[0mfilepath\u001b[0m\u001b[0;34m.\u001b[0m\u001b[0msuffix\u001b[0m \u001b[0;34m==\u001b[0m \u001b[0mself\u001b[0m\u001b[0;34m.\u001b[0m\u001b[0mext\u001b[0m\u001b[0;34m:\u001b[0m\u001b[0;34m\u001b[0m\u001b[0;34m\u001b[0m\u001b[0m\n\u001b[0;32m----> 7\u001b[0;31m             \u001b[0;32mraise\u001b[0m \u001b[0mValueError\u001b[0m\u001b[0;34m(\u001b[0m\u001b[0;34m\"Invalid file format\"\u001b[0m\u001b[0;34m)\u001b[0m\u001b[0;34m\u001b[0m\u001b[0;34m\u001b[0m\u001b[0m\n\u001b[0m\u001b[1;32m      8\u001b[0m         \u001b[0mself\u001b[0m\u001b[0;34m.\u001b[0m\u001b[0mfilepath\u001b[0m \u001b[0;34m=\u001b[0m \u001b[0mfilepath\u001b[0m\u001b[0;34m\u001b[0m\u001b[0;34m\u001b[0m\u001b[0m\n\u001b[1;32m      9\u001b[0m \u001b[0;32mclass\u001b[0m \u001b[0mMP3File\u001b[0m\u001b[0;34m(\u001b[0m\u001b[0mAudioFile\u001b[0m\u001b[0;34m)\u001b[0m\u001b[0;34m:\u001b[0m\u001b[0;34m\u001b[0m\u001b[0;34m\u001b[0m\u001b[0m\n",
      "\u001b[0;31mValueError\u001b[0m: Invalid file format"
     ]
    }
   ],
   "source": [
    "p_1 = MP3File(Path(\"Heart of the Sunrise.mp3\"))\n",
    "p_1.play()\n",
    "p_2 = WavFile(Path(\"Roundabout.wav\"))\n",
    "p_2.play()\n",
    "p_3 = OggFile(Path(\"Heart of the Sunrise.ogg\"))\n",
    "p_3.play()\n",
    "p_4 = MP3File(Path(\"The Fish.mov\"))"
   ]
  },
  {
   "cell_type": "markdown",
   "metadata": {},
   "source": [
    "## SECTION 4"
   ]
  },
  {
   "cell_type": "code",
   "execution_count": 12,
   "metadata": {},
   "outputs": [],
   "source": [
    "from typing import List\n",
    "\n",
    "class EvenOnly(List[int]):\n",
    "    def append(self, value: int) -> None:\n",
    "        if not isinstance(value, int):\n",
    "            raise TypeError(\"Only integers can be added\")\n",
    "        if value % 2 != 0:\n",
    "            raise ValueError(\"Only even numbers can be added\")\n",
    "        super().append(value)\n",
    "  "
   ]
  },
  {
   "cell_type": "code",
   "execution_count": 13,
   "metadata": {},
   "outputs": [
    {
     "ename": "TypeError",
     "evalue": "Only integers can be added",
     "output_type": "error",
     "traceback": [
      "\u001b[0;31m---------------------------------------------------------------------------\u001b[0m",
      "\u001b[0;31mTypeError\u001b[0m                                 Traceback (most recent call last)",
      "\u001b[0;32m/tmp/ipykernel_1478/2975602381.py\u001b[0m in \u001b[0;36m<module>\u001b[0;34m\u001b[0m\n\u001b[1;32m      1\u001b[0m \u001b[0me\u001b[0m \u001b[0;34m=\u001b[0m \u001b[0mEvenOnly\u001b[0m\u001b[0;34m(\u001b[0m\u001b[0;34m)\u001b[0m\u001b[0;34m\u001b[0m\u001b[0;34m\u001b[0m\u001b[0m\n\u001b[0;32m----> 2\u001b[0;31m \u001b[0me\u001b[0m\u001b[0;34m.\u001b[0m\u001b[0mappend\u001b[0m\u001b[0;34m(\u001b[0m\u001b[0;34m\"a string\"\u001b[0m\u001b[0;34m)\u001b[0m\u001b[0;34m\u001b[0m\u001b[0;34m\u001b[0m\u001b[0m\n\u001b[0m\u001b[1;32m      3\u001b[0m \u001b[0me\u001b[0m\u001b[0;34m.\u001b[0m\u001b[0mappend\u001b[0m\u001b[0;34m(\u001b[0m\u001b[0;36m3\u001b[0m\u001b[0;34m)\u001b[0m\u001b[0;34m\u001b[0m\u001b[0;34m\u001b[0m\u001b[0m\n\u001b[1;32m      4\u001b[0m \u001b[0me\u001b[0m\u001b[0;34m.\u001b[0m\u001b[0mappend\u001b[0m\u001b[0;34m(\u001b[0m\u001b[0;36m2\u001b[0m\u001b[0;34m)\u001b[0m\u001b[0;34m\u001b[0m\u001b[0;34m\u001b[0m\u001b[0m\n",
      "\u001b[0;32m/tmp/ipykernel_1478/705041287.py\u001b[0m in \u001b[0;36mappend\u001b[0;34m(self, value)\u001b[0m\n\u001b[1;32m      4\u001b[0m     \u001b[0;32mdef\u001b[0m \u001b[0mappend\u001b[0m\u001b[0;34m(\u001b[0m\u001b[0mself\u001b[0m\u001b[0;34m,\u001b[0m \u001b[0mvalue\u001b[0m\u001b[0;34m:\u001b[0m \u001b[0mint\u001b[0m\u001b[0;34m)\u001b[0m \u001b[0;34m->\u001b[0m \u001b[0;32mNone\u001b[0m\u001b[0;34m:\u001b[0m\u001b[0;34m\u001b[0m\u001b[0;34m\u001b[0m\u001b[0m\n\u001b[1;32m      5\u001b[0m         \u001b[0;32mif\u001b[0m \u001b[0;32mnot\u001b[0m \u001b[0misinstance\u001b[0m\u001b[0;34m(\u001b[0m\u001b[0mvalue\u001b[0m\u001b[0;34m,\u001b[0m \u001b[0mint\u001b[0m\u001b[0;34m)\u001b[0m\u001b[0;34m:\u001b[0m\u001b[0;34m\u001b[0m\u001b[0;34m\u001b[0m\u001b[0m\n\u001b[0;32m----> 6\u001b[0;31m             \u001b[0;32mraise\u001b[0m \u001b[0mTypeError\u001b[0m\u001b[0;34m(\u001b[0m\u001b[0;34m\"Only integers can be added\"\u001b[0m\u001b[0;34m)\u001b[0m\u001b[0;34m\u001b[0m\u001b[0;34m\u001b[0m\u001b[0m\n\u001b[0m\u001b[1;32m      7\u001b[0m         \u001b[0;32mif\u001b[0m \u001b[0mvalue\u001b[0m \u001b[0;34m%\u001b[0m \u001b[0;36m2\u001b[0m \u001b[0;34m!=\u001b[0m \u001b[0;36m0\u001b[0m\u001b[0;34m:\u001b[0m\u001b[0;34m\u001b[0m\u001b[0;34m\u001b[0m\u001b[0m\n\u001b[1;32m      8\u001b[0m             \u001b[0;32mraise\u001b[0m \u001b[0mValueError\u001b[0m\u001b[0;34m(\u001b[0m\u001b[0;34m\"Only even numbers can be added\"\u001b[0m\u001b[0;34m)\u001b[0m\u001b[0;34m\u001b[0m\u001b[0;34m\u001b[0m\u001b[0m\n",
      "\u001b[0;31mTypeError\u001b[0m: Only integers can be added"
     ]
    }
   ],
   "source": [
    "e = EvenOnly()\n",
    "e.append(\"a string\")\n",
    "e.append(3)\n",
    "e.append(2)"
   ]
  },
  {
   "cell_type": "code",
   "execution_count": 14,
   "metadata": {},
   "outputs": [],
   "source": [
    "from typing import NoReturn\n",
    "\n",
    "def never_returns() -> NoReturn:\n",
    "    print(\"I am about to raise an exception\")\n",
    "    raise Exception(\"This is always raised\")\n",
    "    print(\"This line will never execute\")\n",
    "    return \"I wont be returned\""
   ]
  },
  {
   "cell_type": "code",
   "execution_count": 15,
   "metadata": {},
   "outputs": [
    {
     "name": "stdout",
     "output_type": "stream",
     "text": [
      "I am about to raise an exception\n"
     ]
    },
    {
     "ename": "Exception",
     "evalue": "This is always raised",
     "output_type": "error",
     "traceback": [
      "\u001b[0;31m---------------------------------------------------------------------------\u001b[0m",
      "\u001b[0;31mException\u001b[0m                                 Traceback (most recent call last)",
      "\u001b[0;32m/tmp/ipykernel_1478/1526836476.py\u001b[0m in \u001b[0;36m<module>\u001b[0;34m\u001b[0m\n\u001b[0;32m----> 1\u001b[0;31m \u001b[0mnever_returns\u001b[0m\u001b[0;34m(\u001b[0m\u001b[0;34m)\u001b[0m\u001b[0;34m\u001b[0m\u001b[0;34m\u001b[0m\u001b[0m\n\u001b[0m",
      "\u001b[0;32m/tmp/ipykernel_1478/1685396744.py\u001b[0m in \u001b[0;36mnever_returns\u001b[0;34m()\u001b[0m\n\u001b[1;32m      3\u001b[0m \u001b[0;32mdef\u001b[0m \u001b[0mnever_returns\u001b[0m\u001b[0;34m(\u001b[0m\u001b[0;34m)\u001b[0m \u001b[0;34m->\u001b[0m \u001b[0mNoReturn\u001b[0m\u001b[0;34m:\u001b[0m\u001b[0;34m\u001b[0m\u001b[0;34m\u001b[0m\u001b[0m\n\u001b[1;32m      4\u001b[0m     \u001b[0mprint\u001b[0m\u001b[0;34m(\u001b[0m\u001b[0;34m\"I am about to raise an exception\"\u001b[0m\u001b[0;34m)\u001b[0m\u001b[0;34m\u001b[0m\u001b[0;34m\u001b[0m\u001b[0m\n\u001b[0;32m----> 5\u001b[0;31m     \u001b[0;32mraise\u001b[0m \u001b[0mException\u001b[0m\u001b[0;34m(\u001b[0m\u001b[0;34m\"This is always raised\"\u001b[0m\u001b[0;34m)\u001b[0m\u001b[0;34m\u001b[0m\u001b[0;34m\u001b[0m\u001b[0m\n\u001b[0m\u001b[1;32m      6\u001b[0m     \u001b[0mprint\u001b[0m\u001b[0;34m(\u001b[0m\u001b[0;34m\"This line will never execute\"\u001b[0m\u001b[0;34m)\u001b[0m\u001b[0;34m\u001b[0m\u001b[0;34m\u001b[0m\u001b[0m\n\u001b[1;32m      7\u001b[0m     \u001b[0;32mreturn\u001b[0m \u001b[0;34m\"I wont be returned\"\u001b[0m\u001b[0;34m\u001b[0m\u001b[0;34m\u001b[0m\u001b[0m\n",
      "\u001b[0;31mException\u001b[0m: This is always raised"
     ]
    }
   ],
   "source": [
    "never_returns()"
   ]
  },
  {
   "cell_type": "code",
   "execution_count": null,
   "metadata": {},
   "outputs": [],
   "source": [
    "def call_exceptor() -> None:\n",
    "    print(\"call_exceptor starts here...\")\n",
    "    never_returns()\n",
    "    print(\"an exception as raised...\")\n",
    "    print(\"... so these lines don't run\")"
   ]
  },
  {
   "cell_type": "code",
   "execution_count": 16,
   "metadata": {},
   "outputs": [],
   "source": [
    "def handler() -> None:\n",
    "    try:\n",
    "        never_returns()\n",
    "        print(\"Never executed\")\n",
    "    except Exception as ex:\n",
    "        print(f\"I caught an exception: {ex!r}\")\n",
    "    print(\"Executed after the exception\")"
   ]
  },
  {
   "cell_type": "code",
   "execution_count": 18,
   "metadata": {},
   "outputs": [
    {
     "name": "stdout",
     "output_type": "stream",
     "text": [
      "I am about to raise an exception\n",
      "I caught an exception: Exception('This is always raised')\n",
      "Executed after the exception\n"
     ]
    }
   ],
   "source": [
    "handler()"
   ]
  },
  {
   "cell_type": "code",
   "execution_count": 19,
   "metadata": {},
   "outputs": [],
   "source": [
    "from typing import Union\n",
    "\n",
    "def funny_division(divisor: float) -> Union[str, float]:\n",
    "    try:\n",
    "        return 100 / divisor\n",
    "    except ZeroDivisionError:\n",
    "        return \"Zero is not a good idea!\""
   ]
  },
  {
   "cell_type": "code",
   "execution_count": 21,
   "metadata": {},
   "outputs": [
    {
     "name": "stdout",
     "output_type": "stream",
     "text": [
      "Zero is not a good idea!\n"
     ]
    }
   ],
   "source": [
    "print(funny_division(0))"
   ]
  },
  {
   "cell_type": "code",
   "execution_count": 22,
   "metadata": {},
   "outputs": [],
   "source": [
    "def funnier_division(divisor: int) -> Union[str, float]:\n",
    "    try:\n",
    "        if divisor == 13:\n",
    "            raise ValueError(\"13 is an unlucky number\")\n",
    "        return 100 / divisor\n",
    "    except (ZeroDivisionError, TypeError):\n",
    "        return \"Enter a number other than zero\""
   ]
  },
  {
   "cell_type": "code",
   "execution_count": 23,
   "metadata": {},
   "outputs": [
    {
     "name": "stdout",
     "output_type": "stream",
     "text": [
      "Testing 0: Enter a number other than zero\n",
      "Testing 'hello': Enter a number other than zero\n",
      "Testing 50.0: 2.0\n",
      "Testing 13: "
     ]
    },
    {
     "ename": "ValueError",
     "evalue": "13 is an unlucky number",
     "output_type": "error",
     "traceback": [
      "\u001b[0;31m---------------------------------------------------------------------------\u001b[0m",
      "\u001b[0;31mValueError\u001b[0m                                Traceback (most recent call last)",
      "\u001b[0;32m/tmp/ipykernel_1478/1237453204.py\u001b[0m in \u001b[0;36m<module>\u001b[0;34m\u001b[0m\n\u001b[1;32m      1\u001b[0m \u001b[0;32mfor\u001b[0m \u001b[0mval\u001b[0m \u001b[0;32min\u001b[0m \u001b[0;34m(\u001b[0m\u001b[0;36m0\u001b[0m\u001b[0;34m,\u001b[0m \u001b[0;34m\"hello\"\u001b[0m\u001b[0;34m,\u001b[0m \u001b[0;36m50.0\u001b[0m\u001b[0;34m,\u001b[0m \u001b[0;36m13\u001b[0m\u001b[0;34m)\u001b[0m\u001b[0;34m:\u001b[0m\u001b[0;34m\u001b[0m\u001b[0;34m\u001b[0m\u001b[0m\n\u001b[1;32m      2\u001b[0m     \u001b[0mprint\u001b[0m\u001b[0;34m(\u001b[0m\u001b[0;34mf\"Testing {val!r}:\"\u001b[0m\u001b[0;34m,\u001b[0m \u001b[0mend\u001b[0m\u001b[0;34m=\u001b[0m\u001b[0;34m\" \"\u001b[0m\u001b[0;34m)\u001b[0m\u001b[0;34m\u001b[0m\u001b[0;34m\u001b[0m\u001b[0m\n\u001b[0;32m----> 3\u001b[0;31m     \u001b[0mprint\u001b[0m\u001b[0;34m(\u001b[0m\u001b[0mfunnier_division\u001b[0m\u001b[0;34m(\u001b[0m\u001b[0mval\u001b[0m\u001b[0;34m)\u001b[0m\u001b[0;34m)\u001b[0m\u001b[0;34m\u001b[0m\u001b[0;34m\u001b[0m\u001b[0m\n\u001b[0m",
      "\u001b[0;32m/tmp/ipykernel_1478/4204246106.py\u001b[0m in \u001b[0;36mfunnier_division\u001b[0;34m(divisor)\u001b[0m\n\u001b[1;32m      2\u001b[0m     \u001b[0;32mtry\u001b[0m\u001b[0;34m:\u001b[0m\u001b[0;34m\u001b[0m\u001b[0;34m\u001b[0m\u001b[0m\n\u001b[1;32m      3\u001b[0m         \u001b[0;32mif\u001b[0m \u001b[0mdivisor\u001b[0m \u001b[0;34m==\u001b[0m \u001b[0;36m13\u001b[0m\u001b[0;34m:\u001b[0m\u001b[0;34m\u001b[0m\u001b[0;34m\u001b[0m\u001b[0m\n\u001b[0;32m----> 4\u001b[0;31m             \u001b[0;32mraise\u001b[0m \u001b[0mValueError\u001b[0m\u001b[0;34m(\u001b[0m\u001b[0;34m\"13 is an unlucky number\"\u001b[0m\u001b[0;34m)\u001b[0m\u001b[0;34m\u001b[0m\u001b[0;34m\u001b[0m\u001b[0m\n\u001b[0m\u001b[1;32m      5\u001b[0m         \u001b[0;32mreturn\u001b[0m \u001b[0;36m100\u001b[0m \u001b[0;34m/\u001b[0m \u001b[0mdivisor\u001b[0m\u001b[0;34m\u001b[0m\u001b[0;34m\u001b[0m\u001b[0m\n\u001b[1;32m      6\u001b[0m     \u001b[0;32mexcept\u001b[0m \u001b[0;34m(\u001b[0m\u001b[0mZeroDivisionError\u001b[0m\u001b[0;34m,\u001b[0m \u001b[0mTypeError\u001b[0m\u001b[0;34m)\u001b[0m\u001b[0;34m:\u001b[0m\u001b[0;34m\u001b[0m\u001b[0;34m\u001b[0m\u001b[0m\n",
      "\u001b[0;31mValueError\u001b[0m: 13 is an unlucky number"
     ]
    }
   ],
   "source": [
    "for val in (0, \"hello\", 50.0, 13):\n",
    "    print(f\"Testing {val!r}:\", end=\" \")\n",
    "    print(funnier_division(val))"
   ]
  },
  {
   "cell_type": "code",
   "execution_count": null,
   "metadata": {},
   "outputs": [],
   "source": [
    "def funniest_division(divisor: int) -> Union[str, float]:\n",
    "    try:\n",
    "        if divider == 13:\n",
    "            raise ValueError(\"13 is an unlucky number\")\n",
    "        return 100 / divider\n",
    "    except ZeroDivisionError:\n",
    "        return \"Enter a number other than zero\"\n",
    "    except TypeError:\n",
    "        return \"Enter a numerical value\"\n",
    "    except ValueError:\n",
    "        print(\"No, No, not 13!\")\n",
    "        raise"
   ]
  }
 ],
 "metadata": {
  "kernelspec": {
   "display_name": "Python 3.10.9 ('base')",
   "language": "python",
   "name": "python3"
  },
  "language_info": {
   "codemirror_mode": {
    "name": "ipython",
    "version": 3
   },
   "file_extension": ".py",
   "mimetype": "text/x-python",
   "name": "python",
   "nbconvert_exporter": "python",
   "pygments_lexer": "ipython3",
   "version": "3.10.9"
  },
  "orig_nbformat": 4,
  "vscode": {
   "interpreter": {
    "hash": "d9563d1ac5cce8fe6cdfad2dfb59cb9666d2aff3177c9b07cabeb51dbceec895"
   }
  }
 },
 "nbformat": 4,
 "nbformat_minor": 2
}
